{
 "cells": [
  {
   "cell_type": "code",
   "execution_count": 1,
   "metadata": {},
   "outputs": [],
   "source": [
    "\n",
    "from jupyter_dash import JupyterDash\n",
    "import dash_core_components as dcc\n",
    "import dash_html_components as html\n",
    "from plotly.subplots import make_subplots\n",
    "import plotly.graph_objects as go\n",
    "from dash.dependencies import (Input, Output)\n",
    "import plotly.graph_objs as go\n",
    "import psycopg2\n",
    "\n",
    "import pandas as pd\n",
    "import time\n",
    "import random\n",
    "from csv import writer\n",
    "import os\n",
    "\n",
    "def get_connection():\n",
    "    connection = psycopg2.connect(user=\"kpktnhlf\",\n",
    "                                  password=\"RK3i9fEtEYpEmNmjcTlvlX1pVr8WiafO\",\n",
    "                                  host=\"queenie.db.elephantsql.com\",\n",
    "                                  port=\"5432\",\n",
    "                                  database=\"kpktnhlf\")\n",
    "    return connection\n",
    "\n",
    "def close_connection(connection):\n",
    "    if connection:\n",
    "        connection.close()\n",
    "\n",
    "con = get_connection()"
   ]
  },
  {
   "cell_type": "code",
   "execution_count": 2,
   "metadata": {},
   "outputs": [],
   "source": [
    "app = JupyterDash(__name__)"
   ]
  },
  {
   "cell_type": "code",
   "execution_count": 3,
   "metadata": {},
   "outputs": [],
   "source": [
    "app.layout = html.Div([\n",
    "    dcc.Graph(id='demo-live'),\n",
    "    ## for every 2 secs the layout updates\n",
    "    dcc.Interval(id='output-update', interval=2*1000)\n",
    "])"
   ]
  },
  {
   "cell_type": "code",
   "execution_count": 4,
   "metadata": {},
   "outputs": [],
   "source": [
    "@app.callback(\n",
    "    Output(component_id='demo-live', component_property='figure'),\n",
    "    [Input(component_id='output-update', component_property='n_intervals')]\n",
    ")\n",
    "\n",
    "\n",
    "def get_live_updates(n_intervals):\n",
    "    time.sleep(1)\n",
    "    sql = \"\"\"SELECT temperature, minute FROM nevera_temp ORDER BY id desc LIMIT 20;\"\"\"\n",
    "    dataframe = pd.read_sql_query(sql, con, index_col=None, coerce_float=True, params=None, parse_dates=None, chunksize=None)\n",
    "    #print(dataframe)\n",
    "    x = sorted(dataframe['minute'].to_list())\n",
    "    y = sorted(dataframe['temperature'].to_list())\n",
    "    data = go.Scatter(\n",
    "        x=x, y=y, mode='lines+markers'\n",
    "    )\n",
    "    layout = go.Layout(\n",
    "        autosize=False,\n",
    "        width=780,\n",
    "        height=500,\n",
    "        margin=dict(l=20, r=20, t=20, b=20),\n",
    "        paper_bgcolor=\"LightSteelBlue\",\n",
    "        plot_bgcolor='#ebf3fc'\n",
    "    )\n",
    "    fig = {'data' : [data], 'layout' : layout}\n",
    "    return fig"
   ]
  },
  {
   "cell_type": "code",
   "execution_count": 5,
   "metadata": {},
   "outputs": [
    {
     "data": {
      "text/html": [
       "\n",
       "        <iframe\n",
       "            width=\"100%\"\n",
       "            height=\"650\"\n",
       "            src=\"http://127.0.0.1:8080/\"\n",
       "            frameborder=\"0\"\n",
       "            allowfullscreen\n",
       "        ></iframe>\n",
       "        "
      ],
      "text/plain": [
       "<IPython.lib.display.IFrame at 0x1316daeb0>"
      ]
     },
     "metadata": {},
     "output_type": "display_data"
    }
   ],
   "source": [
    "app.run_server(mode='inline', debug=True, port=8080)"
   ]
  },
  {
   "cell_type": "code",
   "execution_count": 6,
   "metadata": {},
   "outputs": [
    {
     "data": {
      "text/html": [
       "\n",
       "        <iframe\n",
       "            width=\"100%\"\n",
       "            height=\"650\"\n",
       "            src=\"http://127.0.0.1:8080/\"\n",
       "            frameborder=\"0\"\n",
       "            allowfullscreen\n",
       "        ></iframe>\n",
       "        "
      ],
      "text/plain": [
       "<IPython.lib.display.IFrame at 0x131761220>"
      ]
     },
     "metadata": {},
     "output_type": "display_data"
    }
   ],
   "source": [
    "app.layout = html.Div([\n",
    "    dcc.Graph(id='demo-live2'),\n",
    "    ## for every 2 secs the layout updates\n",
    "    dcc.Interval(id='output-update', interval=2*1000)\n",
    "])\n",
    "\n",
    "@app.callback(\n",
    "    Output(component_id='demo-live2', component_property='figure'),\n",
    "    [Input(component_id='output-update', component_property='n_intervals')]\n",
    ")\n",
    "\n",
    "\n",
    "def get_live_updates(n_intervals):\n",
    "    time.sleep(1)\n",
    "    sql = \"\"\"SELECT water, time FROM tank ORDER BY id desc LIMIT 20;\"\"\"\n",
    "    dataframe = pd.read_sql_query(sql, con, index_col=None, coerce_float=True, params=None, parse_dates=None, chunksize=None)\n",
    "    #print(dataframe)\n",
    "    x = sorted(dataframe['time'].to_list())\n",
    "    y = sorted(dataframe['water'].to_list())\n",
    "    data = go.Scatter(\n",
    "        x=x, y=y, mode='lines+markers'\n",
    "    )\n",
    "    layout = go.Layout(\n",
    "        autosize=False,\n",
    "        width=780,\n",
    "        height=500,\n",
    "        margin=dict(l=20, r=20, t=20, b=20),\n",
    "        paper_bgcolor=\"LightSteelBlue\",\n",
    "        plot_bgcolor='#ebf3fc'\n",
    "    )\n",
    "    fig = {'data' : [data], 'layout' : layout}\n",
    "    return fig\n",
    "\n",
    "app.run_server(mode='inline', debug=True, port=8080)"
   ]
  },
  {
   "cell_type": "code",
   "execution_count": 7,
   "metadata": {},
   "outputs": [
    {
     "data": {
      "text/html": [
       "\n",
       "        <iframe\n",
       "            width=\"100%\"\n",
       "            height=\"650\"\n",
       "            src=\"http://127.0.0.1:8080/\"\n",
       "            frameborder=\"0\"\n",
       "            allowfullscreen\n",
       "        ></iframe>\n",
       "        "
      ],
      "text/plain": [
       "<IPython.lib.display.IFrame at 0x1316dad00>"
      ]
     },
     "metadata": {},
     "output_type": "display_data"
    }
   ],
   "source": [
    "app.layout = html.Div([\n",
    "    dcc.Graph(id='demo-live3'),\n",
    "    ## for every 2 secs the layout updates\n",
    "    dcc.Interval(id='output-update', interval=2*1000)\n",
    "])\n",
    "\n",
    "@app.callback(\n",
    "    Output(component_id='demo-live3', component_property='figure'),\n",
    "    [Input(component_id='output-update', component_property='n_intervals')]\n",
    ")\n",
    "\n",
    "\n",
    "def get_live_updates(n_intervals):\n",
    "    time.sleep(1)\n",
    "    sql = \"\"\"SELECT ice, minute FROM nevera_ice ORDER BY id desc LIMIT 20;\"\"\"\n",
    "    dataframe = pd.read_sql_query(sql, con, index_col=None, coerce_float=True, params=None, parse_dates=None, chunksize=None)\n",
    "    #print(dataframe)\n",
    "    x = sorted(dataframe['minute'].to_list())\n",
    "    y = sorted(dataframe['ice'].to_list())\n",
    "    data = go.Scatter(\n",
    "        x=x, y=y, mode='lines+markers'\n",
    "    )\n",
    "    layout = go.Layout(\n",
    "        autosize=False,\n",
    "        width=780,\n",
    "        height=500,\n",
    "        margin=dict(l=20, r=20, t=20, b=20),\n",
    "        paper_bgcolor=\"LightSteelBlue\",\n",
    "        plot_bgcolor='#ebf3fc'\n",
    "    )\n",
    "    fig = {'data' : [data], 'layout' : layout}\n",
    "    return fig\n",
    "\n",
    "app.run_server(mode='inline', debug=True, port=8080)"
   ]
  },
  {
   "cell_type": "code",
   "execution_count": 8,
   "metadata": {},
   "outputs": [
    {
     "data": {
      "text/html": [
       "\n",
       "        <iframe\n",
       "            width=\"100%\"\n",
       "            height=\"650\"\n",
       "            src=\"http://127.0.0.1:8080/\"\n",
       "            frameborder=\"0\"\n",
       "            allowfullscreen\n",
       "        ></iframe>\n",
       "        "
      ],
      "text/plain": [
       "<IPython.lib.display.IFrame at 0x1317648b0>"
      ]
     },
     "metadata": {},
     "output_type": "display_data"
    }
   ],
   "source": [
    "app.layout = html.Div([\n",
    "    dcc.Graph(id='demo-live4'),\n",
    "    ## for every 2 secs the layout updates\n",
    "    dcc.Interval(id='output-update', interval=2*1000)\n",
    "])\n",
    "\n",
    "@app.callback(\n",
    "    Output(component_id='demo-live4', component_property='figure'),\n",
    "    [Input(component_id='output-update', component_property='n_intervals')]\n",
    ")\n",
    "\n",
    "\n",
    "def get_live_updates(n_intervals):\n",
    "    time.sleep(1)\n",
    "    sql = \"\"\"SELECT id, temp FROM olla_temp ORDER BY id desc LIMIT 20;\"\"\"\n",
    "    dataframe = pd.read_sql_query(sql, con, index_col=None, coerce_float=True, params=None, parse_dates=None, chunksize=None)\n",
    "    #print(dataframe)\n",
    "    x = sorted(dataframe['id'].to_list())\n",
    "    y = sorted(dataframe['temp'].to_list())\n",
    "    data = go.Scatter(\n",
    "        x=x, y=y, mode='lines+markers'\n",
    "    )\n",
    "    layout = go.Layout(\n",
    "        autosize=False,\n",
    "        width=780,\n",
    "        height=500,\n",
    "        margin=dict(l=20, r=20, t=20, b=20),\n",
    "        paper_bgcolor=\"LightSteelBlue\",\n",
    "        plot_bgcolor='#ebf3fc'\n",
    "    )\n",
    "    fig = {'data' : [data], 'layout' : layout}\n",
    "    return fig\n",
    "\n",
    "app.run_server(mode='inline', debug=True, port=8080)"
   ]
  },
  {
   "cell_type": "code",
   "execution_count": 9,
   "metadata": {},
   "outputs": [
    {
     "data": {
      "text/html": [
       "\n",
       "        <iframe\n",
       "            width=\"100%\"\n",
       "            height=\"650\"\n",
       "            src=\"http://127.0.0.1:8080/\"\n",
       "            frameborder=\"0\"\n",
       "            allowfullscreen\n",
       "        ></iframe>\n",
       "        "
      ],
      "text/plain": [
       "<IPython.lib.display.IFrame at 0x131761070>"
      ]
     },
     "metadata": {},
     "output_type": "display_data"
    }
   ],
   "source": [
    "app.layout = html.Div([\n",
    "    dcc.Graph(id='demo-live5'),\n",
    "    ## for every 2 secs the layout updates\n",
    "    dcc.Interval(id='output-update', interval=2*1000)\n",
    "])\n",
    "\n",
    "@app.callback(\n",
    "    Output(component_id='demo-live5', component_property='figure'),\n",
    "    [Input(component_id='output-update', component_property='n_intervals')]\n",
    ")\n",
    "\n",
    "\n",
    "def get_live_updates(n_intervals):\n",
    "    time.sleep(1)\n",
    "    sql = \"\"\"SELECT weather, time FROM alexa ORDER BY id desc LIMIT 20;\"\"\"\n",
    "    dataframe = pd.read_sql_query(sql, con, index_col=None, coerce_float=True, params=None, parse_dates=None, chunksize=None)\n",
    "    #print(dataframe)\n",
    "    x = sorted(dataframe['time'].to_list())\n",
    "    y = sorted(dataframe['weather'].to_list())\n",
    "    data = go.Scatter(\n",
    "        x=x, y=y, mode='lines+markers'\n",
    "    )\n",
    "    layout = go.Layout(\n",
    "        autosize=False,\n",
    "        width=780,\n",
    "        height=500,\n",
    "        margin=dict(l=20, r=20, t=20, b=20),\n",
    "        paper_bgcolor=\"LightSteelBlue\",\n",
    "        plot_bgcolor='#ebf3fc'\n",
    "    )\n",
    "    fig = {'data' : [data], 'layout' : layout}\n",
    "    return fig\n",
    "\n",
    "app.run_server(mode='inline', debug=True, port=8080)"
   ]
  },
  {
   "cell_type": "code",
   "execution_count": null,
   "metadata": {},
   "outputs": [],
   "source": []
  },
  {
   "cell_type": "code",
   "execution_count": null,
   "metadata": {},
   "outputs": [],
   "source": []
  }
 ],
 "metadata": {
  "kernelspec": {
   "display_name": "Python 3.9.5 64-bit",
   "language": "python",
   "name": "python395jvsc74a57bd07812ea015bdcee6f23a998adcdd2ef97c151c0c241b7b7070987d9313e41299d"
  },
  "language_info": {
   "codemirror_mode": {
    "name": "ipython",
    "version": 3
   },
   "file_extension": ".py",
   "mimetype": "text/x-python",
   "name": "python",
   "nbconvert_exporter": "python",
   "pygments_lexer": "ipython3",
   "version": "3.9.5"
  },
  "metadata": {
   "interpreter": {
    "hash": "7812ea015bdcee6f23a998adcdd2ef97c151c0c241b7b7070987d9313e41299d"
   }
  }
 },
 "nbformat": 4,
 "nbformat_minor": 4
}
